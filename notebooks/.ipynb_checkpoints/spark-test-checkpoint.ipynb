{
 "cells": [
  {
   "cell_type": "code",
   "execution_count": 1,
   "metadata": {},
   "outputs": [],
   "source": [
    "from pyspark import SparkConf, SparkContext\n",
    "from pyspark.sql import SparkSession\n",
    "from pyspark.sql.types import *\n",
    "# from pyspark.sql.types import StructType, StructField, FloatType"
   ]
  },
  {
   "cell_type": "code",
   "execution_count": null,
   "metadata": {},
   "outputs": [],
   "source": [
    "import pandas as pd\n",
    "import numpy as np"
   ]
  },
  {
   "cell_type": "code",
   "execution_count": null,
   "metadata": {},
   "outputs": [],
   "source": [
    "app_name = \"My PySpark App1\"\n",
    "master_url = \"spark://spark-master:7077\"\n",
    "# local_ip=\"127.0.0.1\"\n",
    "\n",
    "# # spark.local.ip = helps when multiple network interfaces are present. \n",
    "# #                  The driver must be in the same network as the master and slaves\n",
    "# # spark.driver.host =  same as above. This duality might disappear in a future version \n",
    "conf = SparkConf().setAppName(app_name) \\\n",
    "                  .setMaster(master_url) "
   ]
  },
  {
   "cell_type": "code",
   "execution_count": null,
   "metadata": {},
   "outputs": [],
   "source": [
    "sc = SparkContext(conf=conf)"
   ]
  },
  {
   "cell_type": "code",
   "execution_count": null,
   "metadata": {},
   "outputs": [],
   "source": [
    "spark = SparkSession.builder \\\n",
    "                         .config(conf=conf) \\\n",
    "                         .getOrCreate()"
   ]
  },
  {
   "cell_type": "code",
   "execution_count": null,
   "metadata": {},
   "outputs": [],
   "source": [
    "def mod(x):\n",
    "#     import numpy as np\n",
    "    return (x, np.mod(x, 2))\n",
    "\n",
    "rdd = sc.parallelize(range(1000)).map(mod).take(10)\n",
    "print(rdd)"
   ]
  },
  {
   "cell_type": "code",
   "execution_count": null,
   "metadata": {},
   "outputs": [],
   "source": [
    "num_elements=100000\n",
    "\n",
    "mu, sigma = 2, 0.5\n",
    "v = np.random.normal(mu, sigma, num_elements)\n",
    "rdd1 = sc.parallelize(v)    \n",
    "def mult(x): return x * np.array([2])\n",
    "rdd2 = rdd1.map(mult).map(lambda x: (float(x),))    \n",
    "\n",
    "schema = StructType([StructField(\"value\", FloatType(), True)])\n",
    "    \n",
    "\n",
    "df1 = spark.createDataFrame(rdd2, schema)\n",
    "df1.registerTempTable(\"test\")  \n",
    "\n",
    "def square(x): return x ** 2\n",
    "\n",
    "spark.udf.register(\"squared\", square)\n",
    "df2 = spark.sql(\"SELECT squared(value) squared FROM test\")    \n",
    "    \n",
    "df= df2.toPandas()\n",
    "\n",
    "print(f\"Got Pandas dataframe with {df.size} elements\")\n",
    "print(df.head(10))"
   ]
  }
 ],
 "metadata": {
  "kernelspec": {
   "display_name": "Python 3",
   "language": "python",
   "name": "python3"
  },
  "language_info": {
   "codemirror_mode": {
    "name": "ipython",
    "version": 3
   },
   "file_extension": ".py",
   "mimetype": "text/x-python",
   "name": "python",
   "nbconvert_exporter": "python",
   "pygments_lexer": "ipython3",
   "version": "3.6.9"
  }
 },
 "nbformat": 4,
 "nbformat_minor": 4
}
